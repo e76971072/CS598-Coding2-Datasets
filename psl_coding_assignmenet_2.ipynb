{
  "nbformat": 4,
  "nbformat_minor": 0,
  "metadata": {
    "colab": {
      "provenance": []
    },
    "kernelspec": {
      "name": "ir",
      "display_name": "R"
    },
    "language_info": {
      "name": "R"
    }
  },
  "cells": [
    {
      "cell_type": "markdown",
      "source": [
        "Report:\n",
        "*   team members:\n",
        "    1.   Ailing Li - ailingl2\n",
        "    2.   Jesse Anderson - jander98\n",
        "    3.   Kevin Nguyen - kn28\n",
        "\n",
        "*   **Contribution from Ailing**\n",
        "  - Tasks completed:\n",
        "-   **Contribution from Jesse**\n",
        "  - Tasks completed:\n",
        "-   **Contribution from Kevin**\n",
        "    - Tasks completed:"
      ],
      "metadata": {
        "id": "NetyqeAHfDEr"
      }
    },
    {
      "cell_type": "markdown",
      "source": [
        "## Part I: Implement Lasso\n",
        "### One-variable Lasso\n",
        "First, write a function one_var_lasso that takes the following inputs:\n",
        "\n",
        "\\begin{aligned}\n",
        "v = \\begin{pmatrix}\n",
        "v_1 & v_2 & \\cdots & v_n\n",
        "\\end{pmatrix}^t,\n",
        "\\end{aligned}\n",
        "\n",
        "\\begin{aligned}\n",
        "z = \\begin{pmatrix}\n",
        "z_1 & z_2 & \\cdots & z_n\n",
        "\\end{pmatrix}^t ,\n",
        "\\end{aligned}\n",
        "\n",
        "\\begin{aligned}\n",
        "\\lambda > 0\n",
        "\\end{aligned}"
      ],
      "metadata": {
        "id": "oug70F73fQMI"
      }
    },
    {
      "cell_type": "markdown",
      "source": [
        "and solves the following one-variable Lasso problem:\n",
        "$$\n",
        "\\min_b { \\frac{1}{2n} \\sum_{i=1}^n (v_i - b z_i)^2 + \\lambda |b|}\n",
        "=\n",
        "\\min_b { \\frac{1}{2n} \\|v - b \\cdot z\\|^2 + \\lambda |b|}\n",
        "$$"
      ],
      "metadata": {
        "id": "dTYWHhk6fh_-"
      }
    },
    {
      "cell_type": "code",
      "source": [
        "# install necessary libraries for the entire document\n",
        "install.packages(\"pls\")\n",
        "install.packages(\"glmnet\")"
      ],
      "metadata": {
        "colab": {
          "base_uri": "https://localhost:8080/"
        },
        "id": "LKvO1c0KvjGB",
        "outputId": "73b33c9a-998e-4e16-fced-7bfcb318cbd0"
      },
      "execution_count": null,
      "outputs": [
        {
          "output_type": "stream",
          "name": "stderr",
          "text": [
            "Installing package into ‘/usr/local/lib/R/site-library’\n",
            "(as ‘lib’ is unspecified)\n",
            "\n",
            "Installing package into ‘/usr/local/lib/R/site-library’\n",
            "(as ‘lib’ is unspecified)\n",
            "\n",
            "also installing the dependencies ‘iterators’, ‘foreach’, ‘shape’, ‘RcppEigen’\n",
            "\n",
            "\n"
          ]
        }
      ]
    },
    {
      "cell_type": "code",
      "source": [
        "# added by Ailing\n",
        "one_var_lasso = function(v, z, lam) {\n",
        "  n = length(v)\n",
        "\n",
        "  # Compute v^T * z (dot product)\n",
        "  v_transpose_z = sum(v * z)\n",
        "\n",
        "  # Compute ||z||^2 (squared norm of z)\n",
        "  norm_z_squared = sum(z^2)\n",
        "\n",
        "  # check for denominator\n",
        "  if (norm_z_squared == 0){\n",
        "    return (0)\n",
        "  }\n",
        "\n",
        "  # Compute a\n",
        "  a = v_transpose_z / norm_z_squared\n",
        "  sign_a = sign(a) #positive return 1, negative return -1\n",
        "\n",
        "  # Compute eta\n",
        "  eta = (2 * n * lam) / norm_z_squared\n",
        "\n",
        "  # Compute x*\n",
        "  x_star = sign_a * max((abs(a) - eta / 2), 0)\n",
        "  return (x_star)\n",
        "}"
      ],
      "metadata": {
        "id": "9JjWSllzjFRl"
      },
      "execution_count": null,
      "outputs": []
    },
    {
      "cell_type": "markdown",
      "source": [
        "### The CD Algorithm\n",
        "\n",
        "Next, write your own function MyLasso to implement the Coordinate Descent (CD) algorithm by repeatedly calling one_var_lasso.\n",
        "In the CD algorithm, at each iteration, we solve a one-variable Lasso problem for βj while holding the other (p-1) coefficients at their current values:\n",
        "$$\n",
        "\\min_{\\beta_j} { \\frac{1}{2n} \\sum_{i=1}^n \\left( y_i - \\sum_{k \\neq j} X_{ik} \\beta_k - X_{ij} \\beta_j \\right)^2 + \\lambda \\sum_{k \\neq j} |\\beta_k| + \\lambda |\\beta_j| }\n",
        "$$"
      ],
      "metadata": {
        "id": "lJsxC1vofpMp"
      }
    },
    {
      "cell_type": "markdown",
      "source": [
        "which is equivalent to solving the following one-variable Lasso problem\n",
        "$$\n",
        "\\min_{\\beta_j} { \\frac{1}{2n} \\sum_{i=1}^n \\left( v_i - x_{ij} \\beta_j \\right)^2 + \\lambda |\\beta_j|},\n",
        "\\quad v_i = y_i - \\sum_{k \\neq j} x_{ik} \\beta_k\n",
        "$$"
      ],
      "metadata": {
        "id": "i5eqgzLFfxv8"
      }
    },
    {
      "cell_type": "code",
      "source": [
        "#Your function may look like the following.\n",
        "MyLasso = function(X, y, lam.seq, maxit = 100) {\n",
        "\n",
        "    # Input\n",
        "    # X: n-by-p design matrix without the intercept\n",
        "    # y: n-by-1 response vector\n",
        "    # lam.seq: sequence of lambda values (arranged from large to small)\n",
        "    # maxit: number of updates for each lambda\n",
        "\n",
        "    # Output\n",
        "    # B: a (p+1)-by-length(lam.seq) coefficient matrix\n",
        "    #    with the first row being the intercept sequence\n",
        "\n",
        "    n = length(y)\n",
        "    p = dim(X)[2]\n",
        "    nlam = length(lam.seq)\n",
        "    B = matrix(0, ncol = nlam, nrow = (p+1))\n",
        "    rownames(B) = c(\"Intercept\", colnames(X))\n",
        "\n",
        "    ##############################\n",
        "    # YOUR CODE:\n",
        "    # (1) new.X = centered & scaled X;\n",
        "    # (2) record the centers and scales used in (1)\n",
        "    ##############################\n",
        "\n",
        "    # Initialize coef vector b and residual vector r\n",
        "    b = rep(0, p)\n",
        "    r = y\n",
        "\n",
        "    # Triple nested loop\n",
        "    for (m in 1:nlam) {\n",
        "      for (step in 1:maxit) {\n",
        "        for (j in 1:p) {\n",
        "          r = r + (new.X[, j] * b[j])\n",
        "          b[j] = one_var_lasso(r, new.X[, j], lam.seq[m])\n",
        "          r = r - new.X[, j] * b[j]\n",
        "        }\n",
        "      }\n",
        "      B[-1, m] = b\n",
        "    }\n",
        "\n",
        "    ##############################\n",
        "    # YOUR CODE:\n",
        "    # scale back the coefficients;\n",
        "    # update the intercepts stored in B[1, ]\n",
        "    ##############################\n",
        "\n",
        "    return(B)\n",
        "}"
      ],
      "metadata": {
        "id": "e8OPEl3GjKeS"
      },
      "execution_count": null,
      "outputs": []
    },
    {
      "cell_type": "markdown",
      "source": [
        "### Test Your Function\n",
        "\n",
        "Download the data set Coding2_Data0.csv. The data set has 13 predictors, V1 to V13, and one response vector Y.\n",
        "\n",
        "Test your function MyLasso on the data set Coding2_Data0.csv with a specific lambda sequence. Refer to the sample code in R/Python for the specified lambda sequence.\n",
        "\n"
      ],
      "metadata": {
        "id": "lFNTZrrTf3Ge"
      }
    },
    {
      "cell_type": "code",
      "source": [
        "library(pls)\n",
        "myData = read.csv(\"Coding2_Data0.csv\")\n",
        "X = as.matrix(myData[, -14])\n",
        "y = myData$Y\n",
        "lam.seq = exp(seq(-1, -8, length.out = 80))\n",
        "myout = MyLasso(X, y, lam.seq)"
      ],
      "metadata": {
        "id": "M-vZx798jpBj"
      },
      "execution_count": null,
      "outputs": []
    },
    {
      "cell_type": "markdown",
      "source": [
        " - Check the accuracy of your function against the output from glmnet. The maximum difference between the two coefficient matrices should be less than 0.005."
      ],
      "metadata": {
        "id": "KIOVY8pYjsLy"
      }
    },
    {
      "cell_type": "code",
      "source": [
        "library(glmnet)\n",
        "lasso.fit = glmnet(X, y, alpha = 1, lambda = lam.seq)\n",
        "max(abs(coef(lasso.fit) - myout))"
      ],
      "metadata": {
        "id": "r5a6vUqAjwjZ"
      },
      "execution_count": null,
      "outputs": []
    },
    {
      "cell_type": "markdown",
      "source": [
        " - Produce a path plot for the 13 non-intercept coefficients along the lambda values in log scale."
      ],
      "metadata": {
        "id": "3c0kp26Ejx6c"
      }
    },
    {
      "cell_type": "code",
      "source": [
        "x.index = log(lam.seq)\n",
        "beta = myout[-1, ]  # beta is a 13-by-80 matrix\n",
        "matplot(x.index, t(beta),\n",
        "        xlim = c(min(x.index), max(x.index)),\n",
        "        lty = 1,\n",
        "        xlab = \"Log Lambda\",\n",
        "        ylab = \"Coefficients\",\n",
        "        type=\"l\",\n",
        "        lwd = 1)\n",
        "# You can add variable names to each path\n",
        "var.names = colnames(X)\n",
        "nvar = length(var.names)\n",
        "xpos = rep(min(x.index), nvar)\n",
        "ypos = beta[, ncol(beta)]\n",
        "text(xpos, ypos, var.names, cex=0.5, pos=2)"
      ],
      "metadata": {
        "id": "NahH1P8Lj1P_"
      },
      "execution_count": null,
      "outputs": []
    },
    {
      "cell_type": "markdown",
      "source": [
        "Your plot should look almost the same as the plot from glmnet"
      ],
      "metadata": {
        "id": "5ghykDv3j5Cr"
      }
    },
    {
      "cell_type": "code",
      "source": [
        "plot(lasso.fit, xvar = \"lambda\")"
      ],
      "metadata": {
        "id": "BVEwfysUj5wX"
      },
      "execution_count": null,
      "outputs": []
    },
    {
      "cell_type": "markdown",
      "source": [
        "Compare the estimated Lasso coefficients from your function with those provided in Coding2_lasso_coefs.csv. The maximum difference between the two coefficient matrices should be **less than 0.005**.\n",
        "Refer to the sample code for instructions on how to read in the coefficients from Coding2_lasso_coefs.csv."
      ],
      "metadata": {
        "id": "VIlLmaVEjhjR"
      }
    },
    {
      "cell_type": "markdown",
      "source": [
        "\n",
        "## Part II: Simulation Study\n",
        "\n",
        "Consider the following **six** procedures:\n",
        "\n",
        "  - **Full**: Fit a linear regression model using all features\n",
        "  - **Ridge.min**: Ridge regression using lambda.min\n",
        "  - **Lasso.min** and **Lasso.1se**: Lasso using lambda.min or lambda.1se\n",
        "  - **L.Refit**: Refit the model selected by Lasso using lambda.1se\n",
        "  -\t**PCR**: principle components regression with the number of components chosen by 10-fold cross validation"
      ],
      "metadata": {
        "id": "laMS0PlSjmld"
      }
    },
    {
      "cell_type": "markdown",
      "source": [
        "### Case I\n",
        "\n",
        "Download the data set Coding2_Data1.csv. The first 14 columns are the same as the data set we used in Part I with Y being the response variable (moved to the 1st column). The additional 78 more predictors are the quadratic and pairwise product terms of the original 13 predictors."
      ],
      "metadata": {
        "id": "EdbalL8_f4Sr"
      }
    },
    {
      "cell_type": "code",
      "source": [
        "#Load libraries and data.\n",
        "set.seed(2913)\n",
        "library(glmnet)\n",
        "library(pls)\n",
        "myData = read.csv(\"Coding2_Data1.csv\", header = TRUE)"
      ],
      "metadata": {
        "id": "nUpUMSzQk0_I"
      },
      "execution_count": null,
      "outputs": []
    },
    {
      "cell_type": "markdown",
      "source": [
        "-\t[a] Conduct the following simulation exercise **50** times:\n",
        "  \n",
        "    –\tIn each iteration, randomly split the data into two parts, **75%** for training and **25%** for testing.\n",
        "    \n",
        "    –\tFor each of the **six** procedures, train a model using the training subset and generate predictions for the test subset. Record the **MSPE** (Mean Squared Prediction Error) based on these test data predictions.\n",
        "    \n",
        "  -\t[b] Graphically summarize your findings on the MSPE using a strip chart, and consider overlaying a boxplot for additional insights.\n",
        "  \n",
        "  -\t[c] Based on the outcomes of your simulation study, please address the following questions:\n",
        "  \n",
        "    –\tWhich procedure or procedures yield the best performance in terms of MSPE? – Conversely, which procedure or procedures show the poorest performance?\n",
        "    \n",
        "    –\tIn the context of Lasso regression, which procedure, **Lasso.min** or **Lasso.1se**, yields a better MSPE?\n",
        "    \n",
        "    –\tIs refitting advantageous in this case? In other words, does **L.Refit** outperform **Lasso.1se**?\n",
        "    \n",
        "    –\tIs variable selection or shrinkage warranted for this particular dataset? To clarify, do you find the performance of the **Full** model to be comparable to, or divergent from, the best-performing procedure among the other five?"
      ],
      "metadata": {
        "id": "d66UWKkDlDKy"
      }
    },
    {
      "cell_type": "code",
      "source": [
        "T = 50\n",
        "n = length(Y)\n",
        "ntest = round(n * 0.25)  # test set size\n",
        "ntrain = n - ntest  # training set size\n",
        "all.test.id = matrix(0, ntest, T)  #\n",
        "for(t in 1:T){\n",
        "  all.test.id[, t] = sample(1:n, ntest)\n",
        "}\n",
        "#save(all.test.id, file=\"alltestID.RData\")"
      ],
      "metadata": {
        "id": "fJL3IXYQlP0i"
      },
      "execution_count": null,
      "outputs": []
    },
    {
      "cell_type": "markdown",
      "source": [
        "### Case II\n",
        "\n",
        "Download the data set Coding2_Data2.csv. The first 92 columns are identical to those in Coding2_Data1.csv, with the addition of 500 columns of artificially generated **noise features**.\n"
      ],
      "metadata": {
        "id": "cZW9dBL0f7NQ"
      }
    },
    {
      "cell_type": "code",
      "source": [
        "library(pls)\n",
        "set.seed(2913) # will remove later\n",
        "#upload file to session storage first\n",
        "data2 = read.csv(\"Coding2_Data2.csv\", header = TRUE)\n",
        "dim(data2)\n",
        "# skip first column\n",
        "data2_X = data.matrix(data2[,-1]) #skip first column y matrix\n",
        "data2_Y = data2[,1] #only first column y vector"
      ],
      "metadata": {
        "colab": {
          "base_uri": "https://localhost:8080/",
          "height": 34
        },
        "id": "GnBdt3O9ufPM",
        "outputId": "03ea1a1b-d965-4871-b10e-b8c8511d93d1"
      },
      "execution_count": null,
      "outputs": [
        {
          "output_type": "display_data",
          "data": {
            "text/html": [
              "<style>\n",
              ".list-inline {list-style: none; margin:0; padding: 0}\n",
              ".list-inline>li {display: inline-block}\n",
              ".list-inline>li:not(:last-child)::after {content: \"\\00b7\"; padding: 0 .5ex}\n",
              "</style>\n",
              "<ol class=list-inline><li>506</li><li>592</li></ol>\n"
            ],
            "text/markdown": "1. 506\n2. 592\n\n\n",
            "text/latex": "\\begin{enumerate*}\n\\item 506\n\\item 592\n\\end{enumerate*}\n",
            "text/plain": [
              "[1] 506 592"
            ]
          },
          "metadata": {}
        }
      ]
    },
    {
      "cell_type": "markdown",
      "source": [
        "-\tRepeat [a] and [b] above for the **four** procedures **excluding** the **Full** procedure. Graphically summarize your findings on MSPE using a strip chart, and consider overlaying a boxplot for additional insights."
      ],
      "metadata": {
        "id": "B_d2g-Huuzrh"
      }
    },
    {
      "cell_type": "code",
      "source": [
        "data2_n = length(data2_Y)\n",
        "data2_test_size = round(data2_n * 0.25) #testing data size\n",
        "data2_train_size = data2_n - data2_test_size #training data size\n",
        "\n",
        "# a 25x50 matrix holds all the test ids\n",
        "# initializing to 0s\n",
        "all.data2test.id = matrix(0, data2_test_size, T)\n",
        "\n",
        "for(t in 1:T){\n",
        "  all.data2test.id[, t] = sample(1:data2_n, data2_test_size)\n",
        "}\n",
        "\n",
        "# create a vector filled with the first column of all.data2test.id matrix\n",
        "data2test.id = all.data2test.id[, 1]"
      ],
      "metadata": {
        "id": "6TKruBHYu4U8"
      },
      "execution_count": null,
      "outputs": []
    },
    {
      "cell_type": "markdown",
      "source": [
        "### Ridge"
      ],
      "metadata": {
        "id": "qTivaqsIzQwc"
      }
    },
    {
      "cell_type": "code",
      "source": [
        "library(glmnet)\n",
        "mylasso.lambda.seq = exp(seq(-10, 1, length.out = 100))\n",
        "cv.out = cv.glmnet(data2_X[-data2test.id, ], data2_Y[-data2test.id], alpha = 0,\n",
        "                   lambda = mylasso.lambda.seq)\n",
        "\n",
        "best.lam = cv.out$lambda.min\n",
        "data2.Ytest.pred = predict(cv.out, s = best.lam, newx = data2_X[data2test.id, ])\n",
        "#MSPE calculation\n",
        "mspe_ridge = mean((data2_Y[data2test.id] - data2.Ytest.pred)^2)"
      ],
      "metadata": {
        "id": "iKHAfNXUzT7q"
      },
      "execution_count": null,
      "outputs": []
    },
    {
      "cell_type": "markdown",
      "source": [
        "### Lasso"
      ],
      "metadata": {
        "id": "3BLu0pFh2gjL"
      }
    },
    {
      "cell_type": "code",
      "source": [
        "cv.out = cv.glmnet(data2_X[-data2test.id, ], data2_Y[-data2test.id], alpha = 1)\n",
        "best.lam = cv.out$lambda.min\n",
        "data2.Ytest.pred = predict(cv.out, s = best.lam, newx = data2_X[data2test.id, ])\n",
        "mspe_lasso = mean((data2_Y[data2test.id] - data2.Ytest.pred)^2)"
      ],
      "metadata": {
        "id": "vmgRjEUP4j__"
      },
      "execution_count": null,
      "outputs": []
    },
    {
      "cell_type": "markdown",
      "source": [
        "### Lasso Refit"
      ],
      "metadata": {
        "id": "n7PJTRpx6cMa"
      }
    },
    {
      "cell_type": "code",
      "source": [
        "mylasso.coef = predict(cv.out, s = best.lam, type = \"coefficients\")\n",
        "var.sel = row.names(mylasso.coef)[which(mylasso.coef != 0)[-1]]\n",
        "mylasso.refit = lm(Y ~ ., data2[-data2test.id, c(\"Y\", var.sel)])\n",
        "data2.Ytest.pred = predict(mylasso.refit, newdata = data2[data2test.id, ])\n",
        "mspe_lasso_refit = mean((data2.Ytest.pred - data2_Y[data2test.id])^2)"
      ],
      "metadata": {
        "id": "4Xzmj1Lv6e2r"
      },
      "execution_count": null,
      "outputs": []
    },
    {
      "cell_type": "markdown",
      "source": [
        "### PCR"
      ],
      "metadata": {
        "id": "A-pKwTLE79_e"
      }
    },
    {
      "cell_type": "code",
      "source": [
        "library(pls)\n",
        "#The default pcr does not scale the input features\n",
        "mypcr = pcr(Y ~ ., data= data2[-data2test.id, ], validation=\"CV\", scale=TRUE)\n",
        "CVerr = RMSEP(mypcr)$val[1, , ]\n",
        "adjCVerr = RMSEP(mypcr)$val[2, , ]\n",
        "best.ncomp = which.min(CVerr) - 1\n",
        "\n",
        "if (best.ncomp==0) {\n",
        "    Ytest.pred = mean(data2$Y[-data2test.id])\n",
        "  } else {\n",
        "    data2.Ytest.pred = predict(mypcr, data2[data2test.id,], ncomp=best.ncomp)\n",
        "  }\n",
        "mspe_pcr = mean((data2.Ytest.pred - data2$Y[data2test.id])^2)"
      ],
      "metadata": {
        "id": "d8rL38bv8BM7"
      },
      "execution_count": null,
      "outputs": []
    },
    {
      "cell_type": "markdown",
      "source": [
        "-\t[c] Address the following questions:\n",
        "  \n",
        "    –\tWhich procedure or procedures yield the best performance in terms of MSPE?\n",
        "    "
      ],
      "metadata": {
        "id": "NNHy9VqQybNV"
      }
    },
    {
      "cell_type": "code",
      "source": [
        "mspe_results = data.frame(\n",
        "  Method = c(\"Rige\", \"Lasso\", \"Lasso Refit\", \"PCR\"),\n",
        "  MSPE = c(mspe_ridge, mspe_lasso, mspe_lasso_refit, mspe_pcr)\n",
        ")\n",
        "\n",
        "stripchart(MSPE ~ Method, data = mspe_results,\n",
        "           main = \"MSPE Comparison\",\n",
        "           xlab = \"Mean Squared Prediction Error\",\n",
        "           ylab = \"Modeling Method\",\n",
        "           method = \"stack\", #\"jitter\",\n",
        "           col = \"blue\",\n",
        "           vertical = FALSE,\n",
        "           pch = 25)\n"
      ],
      "metadata": {
        "colab": {
          "base_uri": "https://localhost:8080/",
          "height": 437
        },
        "id": "J6JHBUrS16u_",
        "outputId": "7cdb8734-d522-434e-b8f2-3ae58ffc323e"
      },
      "execution_count": null,
      "outputs": [
        {
          "output_type": "display_data",
          "data": {
            "text/plain": [
              "Plot with title “MSPE Comparison”"
            ],
            "image/png": "[encoded data removed]"
          },
          "metadata": {
            "image/png": {
              "width": 420,
              "height": 420
            }
          }
        }
      ]
    },
    {
      "cell_type": "markdown",
      "source": [
        "  –\tConversely, which procedure or procedures show the poorest performance?\n",
        "    \n",
        "  –\tHave you observed any procedure or procedures that performed well in Case I but exhibited poorer performance in Case II, or vice versa? If so, please offer an explanation.\n",
        "    \n",
        "  –\tGiven that Coding2_Data2.csv includes all features found in Coding2_Data1.csv, one might anticipate that the best MSPE in Case II would be equal to or lower than the best MSPE in Case I. Do your simulation results corroborate this expectation? If not, please offer an explanation."
      ],
      "metadata": {
        "id": "LxZNvD0eDM91"
      }
    },
    {
      "cell_type": "markdown",
      "source": [
        "### What to Submit\n",
        "\n",
        "  -\tA Markdown (or Notebook) file in HTML format, which contains all necessary code and the corresponding output/results.\n",
        "  -\tRMD or ipynb files are not needed.\n",
        "  -\tSet the **seed** at the beginning of part II to be the last 4-dig of your UIN. So we can get the same result if we re-run your code. If your UIN ends with “0496”, for example, use “496.”\n",
        "  -\t**One submission per team**. For each assignment, one and only one member submits their work on Coursera/Canvas. Please remember to include the following in your report:\n",
        "–\tthe names and netIDs of all team members; the program (MCS-DS or campus) if the team is a mixture of students from these two;\n",
        "–\ta short paragraph detailing the contribution of each member."
      ],
      "metadata": {
        "id": "1yDj3SAef_Z9"
      }
    }
  ]
}